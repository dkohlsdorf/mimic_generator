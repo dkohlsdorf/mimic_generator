{
 "cells": [
  {
   "cell_type": "markdown",
   "metadata": {},
   "source": [
    "# Extract Whistles From Box 2 Box\n",
    "\n",
    "We need to extract whistles played through the ocean and recorded by a box.\n",
    "\n",
    "## Basic Idea\n",
    "Use the original file to find gaps.\n",
    "Align the recorded file to the original file (manually).\n",
    "Find all gaps that are large enough in the original file:\n",
    "    $$(gap_{i, start}, gap_{i, stop})$$.\n",
    "    \n",
    "Use the gaps to find whistles. Since the extractor is not perfect, we classify each region using the trace and\n",
    "a nearest neighbor based solution."
   ]
  },
  {
   "cell_type": "code",
   "execution_count": 186,
   "metadata": {},
   "outputs": [],
   "source": [
    "import os\n",
    "import matplotlib.pyplot as plt\n",
    "import numpy as np\n",
    "\n",
    "from mimic_utils.spectrogram import *\n",
    "from mimic_utils.whistle_tracer import *\n",
    "from mimic_utils.params import * \n",
    "from scipy.io import wavfile\n",
    "from scipy.spatial.distance import euclidean\n",
    "from fastdtw import fastdtw\n"
   ]
  },
  {
   "cell_type": "markdown",
   "metadata": {},
   "source": [
    "## The algorithms to extract the audio"
   ]
  },
  {
   "cell_type": "code",
   "execution_count": 208,
   "metadata": {},
   "outputs": [],
   "source": [
    "def wtrace(audio):\n",
    "    spec = fwd_spectrogram(data_original[start - border: stop + border, 0], FFT_WIN, FFT_STEP)\n",
    "    whistle_trace, _  = trace(spec, TRACE_RAD, SMOOTH_ENT)   \n",
    "    lo = min(whistle_trace)\n",
    "    hi = max(whistle_trace)\n",
    "    return (whistle_trace - lo) / (hi - lo)\n",
    "\n",
    "\n",
    "class Classifier:\n",
    "    \n",
    "    def __init__(self, folder):\n",
    "        self.templates = {}\n",
    "        for filename in os.listdir(folder):\n",
    "            if filename.endswith(\".wav\"):\n",
    "                print(\"Loading Classifier Template: {}\".format(filename))\n",
    "                basename = filename.split(\"/\")[-1].replace(\".wav\", \"\")\n",
    "                _,  data = wavfile.read(\"{}/{}\".format(folder, filename))\n",
    "                self.templates[basename] = wtrace(data)\n",
    "        \n",
    "    def nn(self, trace):\n",
    "        min_label = -1\n",
    "        min_dist  = float('inf') \n",
    "        for label, template in self.templates.items():\n",
    "            r = int(max(len(trace), len(template)) * 0.1)\n",
    "            dist, _ = fastdtw(trace, template, radius= r,dist=euclidean)\n",
    "            if dist < min_dist:\n",
    "                min_dist = dist\n",
    "                min_label = label\n",
    "        print(\"Min Dist: {} Min Label: {}\".format(min_dist, min_label))\n",
    "        return min_label\n",
    "\n",
    "    \n",
    "def extract_all(original, recorded, output, classifier, border = 30000, min_gap_size = 123500, th = 0.1):\n",
    "    basename = recorded.split(\"/\")[-1].replace(\".wav\", \"\")\n",
    "    print(basename)\n",
    "    _,  data_original = wavfile.read(original)\n",
    "    fs, data_box      = wavfile.read(recorded)\n",
    "    data = (data_original[:, 0] + 32768) / (32768 + 32767)    \n",
    "\n",
    "    last_sample = 0\n",
    "    start_i = 0    \n",
    "    gaps = []\n",
    "    \n",
    "    n = len(data_original)\n",
    "    for i in range(4 * 190000, 5 * 190000):\n",
    "        sample = np.sum(data[i - 10:i]) / 10\n",
    "        if sample < th and last_sample >= th and i - start_i > min_gap_size:\n",
    "            print(\"STOP {} {} {} %done {} {}\".format(start_i / fs, i / fs, (i - start_i) / fs, (i / n) * 100, len(gaps)))\n",
    "            gaps.append([start_i, i])        \n",
    "        if sample >= th and last_sample < th:\n",
    "            start_i = i\n",
    "        last_sample = sample\n",
    "        \n",
    "    for i in range(1, len(gaps)):  \n",
    "        _, start = gaps[i - 1]\n",
    "        stop, _  = gaps[i]\n",
    "        trace = wtrace(data_original[start - border: stop + border, 0])\n",
    "        name = classifier.nn(trace)\n",
    "        filename = '{}/{}_{}_{}.wav'.format(output, name, basename, start)\n",
    "        print(filename)\n",
    "        wavfile.write(filename, fs, data_box[start - border: stop + border, 0])\n",
    "        \n",
    "classifier = Classifier(\"originals/\")"
   ]
  },
  {
   "cell_type": "markdown",
   "metadata": {},
   "source": [
    "## Extract the 00 variations"
   ]
  },
  {
   "cell_type": "code",
   "execution_count": null,
   "metadata": {},
   "outputs": [
    {
     "name": "stdout",
     "output_type": "stream",
     "text": [
      "Loading Classifier Template: sar.wav\n",
      "Loading Classifier Template: sca.wav\n"
     ]
    }
   ],
   "source": [
    "classifier = Classifier(\"originals/\")"
   ]
  },
  {
   "cell_type": "code",
   "execution_count": null,
   "metadata": {},
   "outputs": [],
   "source": [
    "output     = \"00\" \n",
    "original   = '/Users/daniel.kohlsdorf/Desktop/00-all-whistles-2019-synth--04--18.wav'\n",
    "recorded   = '/Users/daniel.kohlsdorf/Desktop/00_chat1-2019-06-23T123304-192k.wav'\n",
    "extract_all(original, recorded, output, classifier)"
   ]
  },
  {
   "cell_type": "markdown",
   "metadata": {},
   "source": [
    "# Extract 07 variations"
   ]
  },
  {
   "cell_type": "code",
   "execution_count": null,
   "metadata": {},
   "outputs": [],
   "source": [
    "output     = \"07\" \n",
    "original   = '/Users/daniel.kohlsdorf/Desktop/'\n",
    "recorded   = '/Users/daniel.kohlsdorf/Desktop/'\n",
    "extract_all(original, recorded, output, classifier)"
   ]
  },
  {
   "cell_type": "code",
   "execution_count": null,
   "metadata": {},
   "outputs": [],
   "source": []
  }
 ],
 "metadata": {
  "kernelspec": {
   "display_name": "Python 3",
   "language": "python",
   "name": "python3"
  },
  "language_info": {
   "codemirror_mode": {
    "name": "ipython",
    "version": 3
   },
   "file_extension": ".py",
   "mimetype": "text/x-python",
   "name": "python",
   "nbconvert_exporter": "python",
   "pygments_lexer": "ipython3",
   "version": "3.7.3"
  }
 },
 "nbformat": 4,
 "nbformat_minor": 2
}
