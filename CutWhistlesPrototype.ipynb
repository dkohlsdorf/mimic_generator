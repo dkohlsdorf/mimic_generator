{
 "cells": [
  {
   "cell_type": "markdown",
   "metadata": {},
   "source": [
    "# Extract Whistles From Box 2 Box\n",
    "\n",
    "We need to extract whistles played through the ocean and recorded by a box.\n",
    "\n",
    "## Basic Idea\n",
    "Use the original file to find gaps.\n",
    "Align the recorded file to the original file (manually).\n",
    "Find all gaps that are large enough in the original file:\n",
    "    $$(gap_{i, start}, gap_{i, stop})$$.\n",
    "    \n",
    "Use the gaps to find whistles. Since the extractor is not perfect, we classify each region using the trace and\n",
    "a nearest neighbor based solution."
   ]
  },
  {
   "cell_type": "code",
   "execution_count": 186,
   "metadata": {},
   "outputs": [],
   "source": [
    "import os\n",
    "import matplotlib.pyplot as plt\n",
    "import numpy as np\n",
    "\n",
    "from mimic_utils.spectrogram import *\n",
    "from mimic_utils.whistle_tracer import *\n",
    "from mimic_utils.params import * \n",
    "from scipy.io import wavfile\n",
    "from scipy.spatial.distance import euclidean\n",
    "from fastdtw import fastdtw\n"
   ]
  },
  {
   "cell_type": "markdown",
   "metadata": {},
   "source": [
    "## The algorithms to extract the audio"
   ]
  },
  {
   "cell_type": "code",
   "execution_count": 197,
   "metadata": {},
   "outputs": [],
   "source": [
    "def wtrace(audio):\n",
    "    spec = fwd_spectrogram(data_original[start - border: stop + border, 0], FFT_WIN, FFT_STEP)\n",
    "    whistle_trace, _  = trace(spec, TRACE_RAD, SMOOTH_ENT)   \n",
    "    lo = min(whistle_trace)\n",
    "    hi = max(whistle_trace)\n",
    "    return (whistle_trace - lo) / (hi - lo)\n",
    "\n",
    "\n",
    "class Classifier:\n",
    "    \n",
    "    def __init__(self, folder):\n",
    "        self.templates = {}\n",
    "        for filename in os.listdir(folder):\n",
    "            if filename.endswith(\".wav\"):\n",
    "                print(\"Loading Classifier Template: {}\".format(filename))\n",
    "                basename = filename.split(\"/\")[-1].replace(\".wav\", \"\")\n",
    "                _,  data = wavfile.read(\"{}/{}\".format(folder, filename))\n",
    "                self.templates[basename] = wtrace(data)\n",
    "        \n",
    "    def nn(self, trace):\n",
    "        min_label = -1\n",
    "        min_dist  = float('inf') \n",
    "        for label, template in self.templates.items():\n",
    "            dist, _ = fastdtw(trace, template, dist=euclidean)\n",
    "            if dist < min_dist:\n",
    "                min_dist = dist\n",
    "                min_label = label\n",
    "        return label            \n",
    "\n",
    "    \n",
    "def extract_all(original, recorded, output, classifier, border = 30000, min_gap_size = 123500, th = 0.1):\n",
    "    basename = recorded.split(\"/\")[-1].replace(\".wav\", \"\")\n",
    "    print(basename)\n",
    "    _,  data_original = wavfile.read(original)\n",
    "    fs, data_box      = wavfile.read(recorded)\n",
    "    data = (data_original[:, 0] + 32768) / (32768 + 32767)    \n",
    "\n",
    "    last_sample = 0\n",
    "    start_i = 0    \n",
    "    gaps = []\n",
    "    \n",
    "    n = len(data_original)\n",
    "    for i in range(10, len(data_original)):\n",
    "        sample = np.sum(data[i - 10:i]) / 10\n",
    "        if sample < th and last_sample >= th and i - start_i > min_gap_size:\n",
    "            print(\"STOP {} {} {} %done {} {}\".format(start_i / fs, i / fs, (i - start_i) / fs, (i / n) * 100, len(gaps)))\n",
    "            gaps.append([start_i, i])        \n",
    "        if sample >= th and last_sample < th:\n",
    "            start_i = i\n",
    "        last_sample = sample\n",
    "        \n",
    "    for i in range(1, len(gaps)):  \n",
    "        _, start = gaps[i - 1]\n",
    "        stop, _  = gaps[i]\n",
    "        trace = wtrace(data_original[start - border: stop + border, 0])\n",
    "        name = classifier.nn(trace)\n",
    "        filename = '{}/{}_{}_{}.wav'.format(output, basename, start, name)\n",
    "        print(filename)\n",
    "        wavfile.write(filename, fs, data_box[start - border: stop + border, 0])"
   ]
  },
  {
   "cell_type": "markdown",
   "metadata": {},
   "source": [
    "## Extract the 00 variations"
   ]
  },
  {
   "cell_type": "code",
   "execution_count": null,
   "metadata": {},
   "outputs": [
    {
     "name": "stdout",
     "output_type": "stream",
     "text": [
      "Loading Classifier Template: sar.wav\n",
      "Loading Classifier Template: sca.wav\n",
      "Loading Classifier Template: gra.wav\n",
      "Loading Classifier Template: den.wav\n",
      "Loading Classifier Template: rop.wav\n",
      "chat1-2019-06-23T123304-192k\n",
      "STOP 5.208333333333334e-05 1.9804947916666666 1.9804427083333334 %done 0.5756447507323725 0\n",
      "STOP 3.669942708333333 4.601833333333333 0.931890625 %done 1.3375552479233388 1\n",
      "STOP 6.2605 7.185640625 0.925140625 %done 2.0885570231414774 2\n",
      "STOP 8.826036458333334 9.730442708333333 0.90440625 %done 2.8282216600228827 3\n",
      "STOP 11.349729166666666 12.282765625 0.9330364583333334 %done 3.5700722800473295 4\n",
      "STOP 13.919776041666667 14.759625 0.8398489583333333 %done 4.28998889054301 5\n",
      "STOP 16.01065625 16.765953125 0.755296875 %done 4.873142281434309 6\n",
      "STOP 17.758463541666668 18.493244791666665 0.73478125 %done 5.3751917617380105 7\n",
      "STOP 19.474208333333333 20.2138125 0.7396041666666666 %done 5.875286876226152 8\n",
      "STOP 21.08503125 21.89153125 0.8065 %done 6.362927639386172 9\n",
      "STOP 22.637994791666667 25.372 2.7340052083333335 %done 7.37455037853992 10\n",
      "STOP 27.051630208333332 27.993427083333334 0.941796875 %done 8.136486610989495 11\n",
      "STOP 29.642208333333333 30.577260416666668 0.9350520833333333 %done 8.887495955401342 12\n",
      "STOP 32.20790625 33.12176041666667 0.9138541666666666 %done 9.627072789635726 13\n",
      "STOP 34.731791666666666 35.67401041666667 0.94221875 %done 10.36890221591779 14\n",
      "STOP 37.301510416666666 38.147505208333335 0.8459947916666667 %done 11.08784088658632 15\n",
      "STOP 39.39833333333333 40.156427083333334 0.75809375 %done 11.671748169170995 16\n",
      "STOP 41.14427083333333 41.88004166666666 0.7357708333333334 %done 12.172728879323042 17\n",
      "STOP 42.86165104166667 43.60253645833333 0.7408854166666666 %done 12.673384114145621 18\n",
      "STOP 44.348338541666664 45.31070833333333 0.9623697916666667 %done 13.169876292428473 19\n",
      "STOP 45.928807291666665 48.76484375 2.8360364583333335 %done 14.173845062904086 20\n",
      "STOP 50.43159895833333 51.391161458333336 0.9595625 %done 14.937202789932137 21\n",
      "STOP 53.0216875 54.170791666666666 1.1491041666666666 %done 15.745121874161427 22\n",
      "STOP 55.58699479166667 56.51414583333333 0.9271510416666666 %done 16.426234256190625 23\n",
      "STOP 58.11233854166667 59.067677083333336 0.9553385416666667 %done 17.168436086803148 24\n",
      "STOP 59.14534895833334 59.79380729166667 0.6484583333333334 %done 17.379490942657394 25\n",
      "STOP 60.679671875 61.55461458333333 0.8749427083333333 %done 17.891281975264057 26\n",
      "STOP 62.78083854166667 63.53880208333333 0.7579635416666667 %done 18.468000037664307 27\n",
      "STOP 64.41645833333334 65.28286458333334 0.86640625 %done 18.974924078716345 28\n",
      "STOP 66.24822395833333 66.99254166666667 0.7443177083333333 %done 19.471853756395554 29\n",
      "STOP 67.59316666666666 68.744125 1.1509583333333333 %done 19.98096378059063 30\n",
      "STOP 69.26963020833334 72.41027083333333 3.140640625 %done 21.04655487088666 31\n",
      "STOP 73.58909895833334 75.22907291666667 1.6399739583333333 %done 21.865859536292422 32\n",
      "STOP 76.04794270833334 77.55741145833333 1.50946875 %done 22.54260752122924 33\n",
      "STOP 78.52639583333334 83.25525 4.728854166666666 %done 24.198724397088743 34\n",
      "STOP 83.60793229166667 85.00575 1.3978177083333334 %done 24.707519542825544 35\n",
      "STOP 86.171421875 86.94271354166666 0.7712916666666667 %done 25.27051162935463 36\n",
      "STOP 87.76303645833333 88.66883854166667 0.9058020833333333 %done 25.772222009780187 37\n",
      "STOP 89.63313541666666 92.238875 2.6057395833333334 %done 26.809878233775276 38\n",
      "STOP 92.59224479166667 95.85468229166666 3.2624375 %done 27.86083807263259 39\n",
      "STOP 96.972796875 98.61616666666667 1.6433697916666667 %done 28.663482942685732 40\n",
      "STOP 99.439671875 101.0079375 1.568265625 %done 29.358667969657947 41\n",
      "STOP 101.91058854166667 106.71066666666667 4.800078125 %done 31.016206340095927 42\n",
      "STOP 106.927984375 108.43686979166667 1.5088854166666668 %done 31.517939428102604 43\n",
      "STOP 109.55228645833333 110.32940104166667 0.7771145833333334 %done 32.06801695632608 44\n",
      "STOP 111.14266666666667 112.10650520833333 0.9638385416666667 %done 32.58454479035559 45\n",
      "STOP 113.01576041666667 115.69449479166667 2.678734375 %done 33.62741921649338 46\n",
      "STOP 115.90480208333334 119.309609375 3.4048072916666667 %done 34.678177714798046 47\n",
      "STOP 120.35595833333333 122.035765625 1.6798072916666666 %done 35.47055421666611 48\n",
      "STOP 122.78980208333333 124.48970833333334 1.69990625 %done 36.18380993669823 49\n",
      "STOP 125.28848958333333 131.8530625 6.564572916666667 %done 38.3240206515459 50\n",
      "STOP 132.93761979166666 133.74727604166668 0.80965625 %done 38.87458714968295 51\n",
      "STOP 134.503140625 135.597421875 1.09428125 %done 39.41234505822633 52\n"
     ]
    }
   ],
   "source": [
    "classifier = Classifier(\"originals/\")\n",
    "output     = \"00\" \n",
    "original   = '/Users/daniel.kohlsdorf/Desktop/00-all-whistles-2019-synth--04--18.wav'\n",
    "recorded   = '/Users/daniel.kohlsdorf/Desktop/chat1-2019-06-23T123304-192k.wav'\n",
    "extract_all(original, recorded, output, classifier)"
   ]
  },
  {
   "cell_type": "code",
   "execution_count": null,
   "metadata": {},
   "outputs": [],
   "source": []
  }
 ],
 "metadata": {
  "kernelspec": {
   "display_name": "Python 3",
   "language": "python",
   "name": "python3"
  },
  "language_info": {
   "codemirror_mode": {
    "name": "ipython",
    "version": 3
   },
   "file_extension": ".py",
   "mimetype": "text/x-python",
   "name": "python",
   "nbconvert_exporter": "python",
   "pygments_lexer": "ipython3",
   "version": "3.7.3"
  }
 },
 "nbformat": 4,
 "nbformat_minor": 2
}
