{
 "cells": [
  {
   "cell_type": "markdown",
   "metadata": {},
   "source": [
    "# Extract Whistles From Box 2 Box\n",
    "\n",
    "We need to extract whistles played through the ocean and recorded by a box.\n",
    "\n",
    "## Basic Idea\n",
    "Use the original file to find gaps.\n",
    "Align the recorded file to the original file (manually).\n",
    "Find all gaps that are large enough in the original file:\n",
    "    $$(gap_{i, start}, gap_{i, stop})$$.\n",
    "    \n",
    "Use the gaps to find whistles."
   ]
  },
  {
   "cell_type": "code",
   "execution_count": 3,
   "metadata": {},
   "outputs": [],
   "source": [
    "from mimic_utils.spectrogram import *\n",
    "from scipy.io import wavfile\n",
    "\n",
    "import matplotlib.pyplot as plt\n",
    "import numpy as np"
   ]
  },
  {
   "cell_type": "markdown",
   "metadata": {},
   "source": [
    "## The algorithms to extract the audio"
   ]
  },
  {
   "cell_type": "code",
   "execution_count": 138,
   "metadata": {},
   "outputs": [],
   "source": [
    "class NameRing:\n",
    "    ''' \n",
    "    Repeats the names in a ring fashion\n",
    "    For the names a,b,c a name sequence is\n",
    "    a b c a b c ... a b c\n",
    "    '''\n",
    "    def __init__(self, names):\n",
    "        self.names = names\n",
    "        self.i = 0\n",
    "        \n",
    "    def next(self):\n",
    "        name = self.names[self.i]\n",
    "        self.i += 1\n",
    "        if self.i >= len(self.names):\n",
    "            self.i = 0\n",
    "        return name\n",
    "    \n",
    "    \n",
    "def extract_all(original, recorded, output, names, border = 30000, min_gap_size = 100000):\n",
    "    basename = recorded.split(\"/\")[-1].replace(\".wav\", \"\")\n",
    "    print(basename)\n",
    "    _,  data_original = wavfile.read(original)\n",
    "    fs, data_box      = wavfile.read(recorded)\n",
    "    data = (data_original[:, 0] + 32768) / (32768 + 32767)    \n",
    "\n",
    "    last_sample = 0\n",
    "    start_i = 0    \n",
    "    gaps = []\n",
    "    \n",
    "    n = len(data_original)\n",
    "    for i in range(10, n):\n",
    "        sample = np.sum(data[i - 10:i]) / 10\n",
    "        if sample < 0.1 and last_sample >= 0.1 and i - start_i > min_gap_size:\n",
    "            print(\"STOP {} {} {} %done {}\".format(start_i, i, i - start_i, (i / n) * 100))\n",
    "            gaps.append([start_i, i])\n",
    "        if sample >= 0.1 and last_sample < 0.1:\n",
    "            start_i = i\n",
    "        last_sample = sample\n",
    "        \n",
    "    for i in range(1, len(gaps)):  \n",
    "        _, start = gaps[i - 1]\n",
    "        stop, _  = gaps[i]\n",
    "        name = names.next()\n",
    "        wavfile.write('{}/{}_{}_{}.wav'.format(output, basename, start, name), fs, data_box[start - border: stop + border, 0])"
   ]
  },
  {
   "cell_type": "markdown",
   "metadata": {},
   "source": [
    "## Extract the 00 variations"
   ]
  },
  {
   "cell_type": "code",
   "execution_count": null,
   "metadata": {},
   "outputs": [
    {
     "name": "stdout",
     "output_type": "stream",
     "text": [
      "chat1-2019-06-23T123304-192k\n",
      "STOP 10 380255 380245 %done 0.5756447507323725\n",
      "STOP 704629 883552 178923 %done 1.3375552479233388\n",
      "STOP 1202016 1379643 177627 %done 2.0885570231414774\n",
      "STOP 1694599 1868245 173646 %done 2.8282216600228827\n",
      "STOP 2179148 2358291 179143 %done 3.5700722800473295\n",
      "STOP 2672597 2833848 161251 %done 4.28998889054301\n",
      "STOP 3074046 3219063 145017 %done 4.873142281434309\n",
      "STOP 3409625 3550703 141078 %done 5.3751917617380105\n",
      "STOP 3739048 3881052 142004 %done 5.875286876226152\n",
      "STOP 4048326 4203174 154848 %done 6.362927639386172\n",
      "STOP 4346495 4871424 524929 %done 7.37455037853992\n",
      "STOP 5193913 5374738 180825 %done 8.136486610989495\n",
      "STOP 5691304 5870834 179530 %done 8.887495955401342\n",
      "STOP 6183918 6359378 175460 %done 9.627072789635726\n",
      "STOP 6668504 6849410 180906 %done 10.36890221591779\n",
      "STOP 6866153 6978423 112270 %done 10.564207093503189\n",
      "STOP 7161890 7324321 162431 %done 11.08784088658632\n",
      "STOP 7564480 7710034 145554 %done 11.671748169170995\n",
      "STOP 7899700 8040968 141268 %done 12.172728879323042\n",
      "STOP 8229437 8371687 142250 %done 12.673384114145621\n",
      "STOP 8514881 8699656 184775 %done 13.169876292428473\n",
      "STOP 8818331 9362850 544519 %done 14.173845062904086\n",
      "STOP 9682867 9867103 184236 %done 14.937202789932137\n",
      "STOP 10180164 10400792 220628 %done 15.745121874161427\n",
      "STOP 10672703 10850716 178013 %done 16.426234256190625\n",
      "STOP 11037825 11140928 103103 %done 16.86556842510239\n",
      "STOP 11157569 11340994 183425 %done 17.168436086803148\n",
      "STOP 11355907 11480411 124504 %done 17.379490942657394\n",
      "STOP 11650497 11818486 167989 %done 17.891281975264057\n",
      "STOP 12053921 12199450 145529 %done 18.468000037664307\n",
      "STOP 12367960 12534310 166350 %done 18.974924078716345\n",
      "STOP 12719659 12862568 142909 %done 19.471853756395554\n",
      "STOP 12977888 13198872 220984 %done 19.98096378059063\n",
      "STOP 13299769 13902772 603003 %done 21.04655487088666\n",
      "STOP 14129107 14443982 314875 %done 21.865859536292422\n",
      "STOP 14601205 14891023 289818 %done 22.54260752122924\n",
      "STOP 15077068 15985008 907940 %done 24.198724397088743\n",
      "STOP 16052723 16321104 268381 %done 24.707519542825544\n",
      "STOP 16544913 16693001 148088 %done 25.27051162935463\n",
      "STOP 16850503 17024417 173914 %done 25.772222009780187\n",
      "STOP 17209562 17709864 500302 %done 26.809878233775276\n",
      "STOP 17777711 18404099 626388 %done 27.86083807263259\n",
      "STOP 18618777 18934304 315527 %done 28.663482942685732\n",
      "STOP 19092417 19393524 301107 %done 29.358667969657947\n",
      "STOP 19566833 20488448 921615 %done 31.016206340095927\n",
      "STOP 20530173 20819879 289706 %done 31.517939428102604\n",
      "STOP 21034039 21183245 149206 %done 32.06801695632608\n",
      "STOP 21339392 21524449 185057 %done 32.58454479035559\n",
      "STOP 21699026 22213343 514317 %done 33.62741921649338\n",
      "STOP 22253722 22907445 653723 %done 34.678177714798046\n",
      "STOP 23108344 23430867 322523 %done 35.47055421666611\n",
      "STOP 23575642 23902024 326382 %done 36.18380993669823\n",
      "STOP 24055390 25315788 1260398 %done 38.3240206515459\n",
      "STOP 25524023 25679477 155454 %done 38.87458714968295\n",
      "STOP 25824603 26034705 210102 %done 39.41234505822633\n",
      "STOP 26188343 27415874 1227531 %done 41.50321219928767\n",
      "STOP 27598378 28437882 839504 %done 43.050367504034455\n",
      "STOP 28546179 29831577 1285398 %done 45.160196989174565\n",
      "STOP 30014081 30570526 556445 %done 46.27884661352911\n",
      "STOP 30678823 31897982 1219159 %done 48.2884009342565\n",
      "STOP 32086717 34304226 2217509 %done 51.931066323485474\n",
      "STOP 34502076 35160285 658209 %done 53.22700160288274\n",
      "STOP 35160370 36390001 1229631 %done 55.088593324994505\n",
      "STOP 36568963 38804340 2235377 %done 58.74351323883771\n"
     ]
    }
   ],
   "source": [
    "names    = NameRing(names = [\"den\", \"gra\", \"rop\", \"sar\", \"sca\"])  \n",
    "output   = \"00\" \n",
    "original = '/Users/daniel.kohlsdorf/Desktop/00-all-whistles-2019-synth--04--18.wav'\n",
    "recorded = '/Users/daniel.kohlsdorf/Desktop/chat1-2019-06-23T123304-192k.wav'\n",
    "extract_all(original, recorded, output, names)"
   ]
  },
  {
   "cell_type": "code",
   "execution_count": null,
   "metadata": {},
   "outputs": [],
   "source": []
  }
 ],
 "metadata": {
  "kernelspec": {
   "display_name": "Python 3",
   "language": "python",
   "name": "python3"
  },
  "language_info": {
   "codemirror_mode": {
    "name": "ipython",
    "version": 3
   },
   "file_extension": ".py",
   "mimetype": "text/x-python",
   "name": "python",
   "nbconvert_exporter": "python",
   "pygments_lexer": "ipython3",
   "version": "3.7.3"
  }
 },
 "nbformat": 4,
 "nbformat_minor": 2
}
